{
 "cells": [
  {
   "cell_type": "markdown",
   "metadata": {},
   "source": [
    "## Using Beautiful soup to take image from the website"
   ]
  },
  {
   "cell_type": "code",
   "execution_count": null,
   "metadata": {},
   "outputs": [],
   "source": []
  },
  {
   "cell_type": "code",
   "execution_count": 62,
   "metadata": {},
   "outputs": [],
   "source": [
    "import requests\n",
    "from requests import get\n",
    "from selenium import webdriver\n",
    "from webdriver_manager.chrome import ChromeDriverManager\n",
    "from bs4 import BeautifulSoup\n",
    "import re\n",
    "import urllib\n",
    "url = 'https://www.vinted.fr/femmes'"
   ]
  },
  {
   "cell_type": "code",
   "execution_count": 52,
   "metadata": {},
   "outputs": [
    {
     "name": "stdout",
     "output_type": "stream",
     "text": [
      "\n",
      "Looking for [chromedriver 80.0.3987.106 win32] driver in cache \n",
      "File found in cache by path [C:\\Users\\spoti\\.wdm\\drivers\\chromedriver\\80.0.3987.106\\win32\\chromedriver.exe]\n"
     ]
    }
   ],
   "source": [
    "driver = webdriver.Chrome(ChromeDriverManager().install())"
   ]
  },
  {
   "cell_type": "code",
   "execution_count": 53,
   "metadata": {},
   "outputs": [],
   "source": [
    "#response = requests.get(url)\n",
    "#url = 'https://www.vinted.fr/cdn-cgi/beacon/performance?req_id=5703c6cec930cdaf'\n",
    "#response = get(url)\n",
    "#print(response.text)\n",
    "\n",
    "url=\"https://www.vinted.fr/femmes/robes\"\n",
    "driver.get(url)\n",
    "html = driver.page_source"
   ]
  },
  {
   "cell_type": "code",
   "execution_count": null,
   "metadata": {},
   "outputs": [],
   "source": [
    "print(html)"
   ]
  },
  {
   "cell_type": "code",
   "execution_count": 18,
   "metadata": {},
   "outputs": [
    {
     "data": {
      "text/plain": [
       "bs4.BeautifulSoup"
      ]
     },
     "execution_count": 18,
     "metadata": {},
     "output_type": "execute_result"
    }
   ],
   "source": [
    "html_soup = BeautifulSoup(response.text, 'html.parser')\n",
    "type(html_soup)\n"
   ]
  },
  {
   "cell_type": "code",
   "execution_count": 19,
   "metadata": {},
   "outputs": [
    {
     "name": "stdout",
     "output_type": "stream",
     "text": [
      "<class 'bs4.element.ResultSet'>\n",
      "24\n"
     ]
    }
   ],
   "source": [
    "image_containers = html_soup.find_all('a', class_ = 'js-item-link')\n",
    "print(type(image_containers))\n",
    "print(len(image_containers))"
   ]
  },
  {
   "cell_type": "code",
   "execution_count": 65,
   "metadata": {},
   "outputs": [
    {
     "name": "stdout",
     "output_type": "stream",
     "text": [
      "https://www.vinted.fr/femmes/fetes-and-cocktails/435731285-vestido-de-fiesta-pronovias\n",
      "https://www.vinted.fr/femmes/bottes-hautes/427639611-cuissarde-zara\n",
      "https://www.vinted.fr/femmes/robes-dhiver/439120788-robe-pull-en-grosses-mailles-rouge\n",
      "https://www.vinted.fr/femmes/jeans-taille-haute/439115936-jean-salsa-push-in-w29l30\n",
      "https://www.vinted.fr/femmes/sweats-longs/433004571-jersey-abierto\n",
      "https://www.vinted.fr/femmes/sandales/396667438-sandales-rouge-a-talons-hauts-marque-buffalo-london-taille-38\n",
      "https://www.vinted.fr/femmes/robes-sans-bretelles/406420219-vestido-de-color-rojo-de-bershka\n",
      "https://www.vinted.fr/femmes/chemises/397107096-chemisier-avec-noeud-couleur-creme\n",
      "https://www.vinted.fr/femmes/blouses/395745874-blouse-chemise-epaules-denudee-avec-volants\n",
      "https://www.vinted.fr/femmes/bottines/396715232-bottines-rouge-bershka-en-daim-taille-38-tres-bon-etat\n",
      "https://www.vinted.fr/femmes/sacs-a-main/437934632-sac-versace-avec-portefeuille-assorti\n",
      "https://www.vinted.fr/femmes/parkas/388221985-parka-mujer-t-52\n",
      "https://www.vinted.fr/femmes/midi/432410827-m-robe-grise\n",
      "https://www.vinted.fr/femmes/manteaux-longs/407262865-manteau-vintage-38-made-in-italy\n",
      "https://www.vinted.fr/femmes/maquillage/428012525-lote-nuevo\n",
      "https://www.vinted.fr/femmes/talons-hauts-and-escarpins/128852747-chaussure-escarpins-talons-lanieres-noires-zara-basic-taille-39\n",
      "https://www.vinted.fr/femmes/robes-de-soiree/128822244-robe-soiree-bustier-dentelle-noire-123-taille-3840\n",
      "https://www.vinted.fr/femmes/bottines/396744434-bottines-san-marina-taille-38-couleur-taupe-bon-etat\n",
      "https://www.vinted.fr/femmes/vestes-legeres/377230898-veste-noire-t44\n",
      "https://www.vinted.fr/femmes/combi-shorts/439101746-combishort-lin-neuve\n",
      "https://www.vinted.fr/femmes/mini-jupes/438424834-sublime-minijupe-neuve\n",
      "https://www.vinted.fr/femmes/debardeurs/439088482-debardeur-taille-36\n",
      "https://www.vinted.fr/femmes/chaussures-a-bride/396858047-sandales-zalando-taille-38-en-bon-etat-couleur-creme\n",
      "https://www.vinted.fr/femmes/bottines/439112605-zwarte-enkellaarzen-dorothy-perkins\n"
     ]
    }
   ],
   "source": [
    "link = \"https://www.vinted.fr\"\n",
    "for i in image_containers:\n",
    "    img_src=i[\"href\"]\n",
    "    img_src2 = link + img_src\n",
    "    print(img_src2)\n",
    "    \n",
    "#urllib.request.urlretrieve(img_src2, \"test1.jpg\")\n",
    "\n",
    "    \n",
    "        "
   ]
  },
  {
   "cell_type": "code",
   "execution_count": 64,
   "metadata": {},
   "outputs": [
    {
     "name": "stdout",
     "output_type": "stream",
     "text": [
      "https://www.vinted.fr/femmes/bottines/439112605-zwarte-enkellaarzen-dorothy-perkins.jpg\n"
     ]
    }
   ],
   "source": [
    "print(img_src2)"
   ]
  },
  {
   "cell_type": "code",
   "execution_count": 44,
   "metadata": {},
   "outputs": [],
   "source": []
  },
  {
   "cell_type": "code",
   "execution_count": null,
   "metadata": {},
   "outputs": [],
   "source": [
    "\n",
    "    "
   ]
  }
 ],
 "metadata": {
  "kernelspec": {
   "display_name": "Python 3",
   "language": "python",
   "name": "python3"
  },
  "language_info": {
   "codemirror_mode": {
    "name": "ipython",
    "version": 3
   },
   "file_extension": ".py",
   "mimetype": "text/x-python",
   "name": "python",
   "nbconvert_exporter": "python",
   "pygments_lexer": "ipython3",
   "version": "3.7.6"
  }
 },
 "nbformat": 4,
 "nbformat_minor": 4
}
